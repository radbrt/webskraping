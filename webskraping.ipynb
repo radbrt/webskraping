{
 "cells": [
  {
   "cell_type": "markdown",
   "metadata": {
    "deletable": true,
    "editable": true
   },
   "source": [
    "# Et enkelt eksempel på webskraping\n",
    "\n",
    "Vi begynner med å laste inn avhengigheter, eksterne kodepakker som vi kommer til å bruke. Dette er typisk for programmeringsspråket vi bruker, Python. For de som har brukt R bør dette se kjent ut."
   ]
  },
  {
   "cell_type": "code",
   "execution_count": 1,
   "metadata": {
    "collapsed": true,
    "deletable": true,
    "editable": true
   },
   "outputs": [],
   "source": [
    "from bs4 import BeautifulSoup\n",
    "import pandas as pd\n",
    "import requests"
   ]
  },
  {
   "cell_type": "markdown",
   "metadata": {
    "deletable": true,
    "editable": true
   },
   "source": [
    "Definere URLen vi skal skrape fra, og hente teksten (HTML-koden) fra nettsiden."
   ]
  },
  {
   "cell_type": "code",
   "execution_count": 2,
   "metadata": {
    "collapsed": true,
    "deletable": true,
    "editable": true
   },
   "outputs": [],
   "source": [
    "url = \"https://tjenester.nav.no/stillinger/stillinger?sort=akt&rpp=100&rv=l&ad=S1&p=0\"\n",
    "html = requests.get(url).text"
   ]
  },
  {
   "cell_type": "markdown",
   "metadata": {
    "deletable": true,
    "editable": true
   },
   "source": [
    "HTML-koden ser ikke så pen ut her, men vi kommer til å bruke BeautifulSoup for å trekke ut de elementene vi trenger på en enkel måte."
   ]
  },
  {
   "cell_type": "markdown",
   "metadata": {
    "deletable": true,
    "editable": true
   },
   "source": [
    "Konvertere tekst-strengen til et navigerbart element"
   ]
  },
  {
   "cell_type": "code",
   "execution_count": 4,
   "metadata": {
    "collapsed": true,
    "deletable": true,
    "editable": true
   },
   "outputs": [],
   "source": [
    "soup = BeautifulSoup(html, \"html.parser\")"
   ]
  },
  {
   "cell_type": "markdown",
   "metadata": {
    "deletable": true,
    "editable": true
   },
   "source": [
    "Vi finner selve annonsene på siden. Disse er kjennetegnet ved at de ligger inni **&lt;tbody&gt;** type elementer."
   ]
  },
  {
   "cell_type": "code",
   "execution_count": 5,
   "metadata": {
    "collapsed": false,
    "deletable": true,
    "editable": true
   },
   "outputs": [],
   "source": [
    "table = soup.find_all('tbody')"
   ]
  },
  {
   "cell_type": "markdown",
   "metadata": {
    "deletable": true,
    "editable": true
   },
   "source": [
    "Sjekke om vi er på rett spor, ved å se på første elementet:"
   ]
  },
  {
   "cell_type": "code",
   "execution_count": 7,
   "metadata": {
    "collapsed": false,
    "deletable": true,
    "editable": true
   },
   "outputs": [
    {
     "data": {
      "text/plain": [
       "<tbody>\n",
       "<tr>\n",
       "<td colspan=\"4\">\n",
       "<h2>\n",
       "<a href=\"./stilling?p=0&amp;ad=S1&amp;rpp=100&amp;rv=l&amp;sort=akt&amp;ID=9659111&amp;sp=0&amp;search=true\">\n",
       "Bilmekaniker\n",
       "</a>\n",
       "</h2>\n",
       "</td>\n",
       "</tr>\n",
       "<tr class=\"overskrifter\">\n",
       "<th class=\"sted\">\n",
       "Arbeidssted\n",
       "</th>\n",
       "<th class=\"arbeidsgiver\">\n",
       "Arbeidsgiver\n",
       "</th>\n",
       "<th class=\"dato\">\n",
       "Registrert\n",
       "</th>\n",
       "<th class=\"dato\">\n",
       "Søknadsfrist\n",
       "</th>\n",
       "</tr>\n",
       "<tr>\n",
       "<td aria-labelledby=\"arbeidssted\" class=\"sted\">\n",
       "<span class=\"vekk\">Arbeidssted:</span>\n",
       "\n",
       "Larvik\n",
       "\n",
       "\n",
       "</td>\n",
       "<td aria-labelledby=\"arbeidsgiver\" class=\"arbeidsgiver\">\n",
       "<span class=\"vekk\">Arbeidsgiver:</span>\n",
       "Møller Bil AS\n",
       "</td>\n",
       "<td aria-labelledby=\"registrert dato\" class=\"dato\">\n",
       "<span class=\"vekk\">Registrert:</span>\n",
       "26.10.2017\n",
       "</td>\n",
       "<td aria-labelledby=\"søknadsfrist\" class=\"dato soknad\">\n",
       "<span class=\"vekk\">Søknadsfrist:</span>\n",
       "05.11.2017\n",
       "</td>\n",
       "</tr>\n",
       "<tr>\n",
       "<td class=\"beskrivelse\" colspan=\"4\">MøllerGruppen er et familieeid selskap og en ledende aktør i nordisk bilbransje. Selskapet er engasjert innen import, forhandlervirksomhet og finansiering i Norge, Sverige og Baltikum. For nærmere informasjon, se www.moller.no.\n",
       "Møller Bil Larvik er en del av det juridiske selskapet Møller Bil Vestfold AS som er et datterselskap av Møller Bil AS. Vi forhandler merkene Volkswagen Personbiler og Nyttekjøretøy. I tillegg består virksomheten av bruktbilomsetning, autorisert verksted for både Volk ...</td>\n",
       "</tr>\n",
       "</tbody>"
      ]
     },
     "execution_count": 7,
     "metadata": {},
     "output_type": "execute_result"
    }
   ],
   "source": [
    "table[0]"
   ]
  },
  {
   "cell_type": "markdown",
   "metadata": {
    "deletable": true,
    "editable": true
   },
   "source": [
    "## Finne arbeidsgiver, søknadsfrist og stillingstittel fra annonsene"
   ]
  },
  {
   "cell_type": "markdown",
   "metadata": {
    "deletable": true,
    "editable": true
   },
   "source": [
    "Arbeidsgiver ligger inni et element som heter **td**, og som har **class='arbeidsgiver'**"
   ]
  },
  {
   "cell_type": "code",
   "execution_count": 8,
   "metadata": {
    "collapsed": false,
    "deletable": true,
    "editable": true
   },
   "outputs": [
    {
     "data": {
      "text/plain": [
       "[<td aria-labelledby=\"arbeidsgiver\" class=\"arbeidsgiver\">\n",
       " <span class=\"vekk\">Arbeidsgiver:</span>\n",
       " Møller Bil AS\n",
       " </td>]"
      ]
     },
     "execution_count": 8,
     "metadata": {},
     "output_type": "execute_result"
    }
   ],
   "source": [
    "table[0].find_all('td', {\"class\", \"arbeidsgiver\"})"
   ]
  },
  {
   "cell_type": "markdown",
   "metadata": {
    "deletable": true,
    "editable": true
   },
   "source": [
    "Tilsvarende for søknadsfrist, ligger i en **td** som har **class='dato soknad'**"
   ]
  },
  {
   "cell_type": "code",
   "execution_count": 9,
   "metadata": {
    "collapsed": false,
    "deletable": true,
    "editable": true
   },
   "outputs": [
    {
     "data": {
      "text/plain": [
       "<td aria-labelledby=\"søknadsfrist\" class=\"dato soknad\">\n",
       "<span class=\"vekk\">Søknadsfrist:</span>\n",
       "15.11.2017\n",
       "</td>"
      ]
     },
     "execution_count": 9,
     "metadata": {},
     "output_type": "execute_result"
    }
   ],
   "source": [
    "table[5].find('td', {\"class\", \"dato soknad\"})"
   ]
  },
  {
   "cell_type": "code",
   "execution_count": 10,
   "metadata": {
    "collapsed": false,
    "deletable": true,
    "editable": true
   },
   "outputs": [
    {
     "data": {
      "text/plain": [
       "'\\nSøknadsfrist:\\n15.11.2017\\n'"
      ]
     },
     "execution_count": 10,
     "metadata": {},
     "output_type": "execute_result"
    }
   ],
   "source": [
    "table[5].find('td', {\"class\", \"dato soknad\"}).get_text()"
   ]
  },
  {
   "cell_type": "markdown",
   "metadata": {
    "deletable": true,
    "editable": true
   },
   "source": [
    "Til slutt, stillingstittel:"
   ]
  },
  {
   "cell_type": "code",
   "execution_count": 11,
   "metadata": {
    "collapsed": false,
    "deletable": true,
    "editable": true
   },
   "outputs": [
    {
     "data": {
      "text/plain": [
       "<h2>\n",
       "<a href=\"./stilling?p=0&amp;ad=S1&amp;rpp=100&amp;rv=l&amp;sort=akt&amp;ID=9659111&amp;sp=0&amp;search=true\">\n",
       "Bilmekaniker\n",
       "</a>\n",
       "</h2>"
      ]
     },
     "execution_count": 11,
     "metadata": {},
     "output_type": "execute_result"
    }
   ],
   "source": [
    "table[0].find('h2')"
   ]
  },
  {
   "cell_type": "markdown",
   "metadata": {
    "deletable": true,
    "editable": true
   },
   "source": [
    "Få tak i bare teksten, og fjerne linjeskift:"
   ]
  },
  {
   "cell_type": "code",
   "execution_count": 12,
   "metadata": {
    "collapsed": false,
    "deletable": true,
    "editable": true
   },
   "outputs": [
    {
     "data": {
      "text/plain": [
       "'Bilmekaniker'"
      ]
     },
     "execution_count": 12,
     "metadata": {},
     "output_type": "execute_result"
    }
   ],
   "source": [
    "table[0].find('h2').get_text().replace('\\n','')"
   ]
  },
  {
   "cell_type": "markdown",
   "metadata": {
    "deletable": true,
    "editable": true
   },
   "source": [
    "## Lage CSV-datasett av alle annonsene"
   ]
  },
  {
   "cell_type": "markdown",
   "metadata": {
    "deletable": true,
    "editable": true
   },
   "source": [
    "Setter koden fra forrige avsnitt inn i en loop, lagrer opplysningene vi vil ha, og lager CSV-fil"
   ]
  },
  {
   "cell_type": "code",
   "execution_count": 14,
   "metadata": {
    "collapsed": false,
    "deletable": true,
    "editable": true
   },
   "outputs": [],
   "source": [
    "d = []\n",
    "for entry in table:\n",
    "    \n",
    "    arbg_tmp = entry.find('td', {\"class\", \"arbeidsgiver\"}).get_text().replace('\\n', '')\n",
    "    frist_tmp = entry.find('td', {\"class\", \"dato soknad\"}).get_text().replace('\\n', '')\n",
    "    tittel_tmp = entry.find('h2').get_text().replace('\\n','')\n",
    "    \n",
    "    d.append({'arbeidsgiver': arbg_tmp, 'frist': frist_tmp, 'tittel': tittel_tmp})\n",
    "\n",
    "dataset = pd.DataFrame(d)\n",
    "dataset.to_csv('webscraped_data.csv', index=False, sep=';')\n",
    "dataset.head()"
   ]
  },
  {
   "cell_type": "markdown",
   "metadata": {},
   "source": [
    "Totalt trenger vi altså 15 linjer med kode for å lage en CSV-fil med stillingsutlysninger."
   ]
  },
  {
   "cell_type": "markdown",
   "metadata": {},
   "source": [
    "## Fra test til produksjon"
   ]
  },
  {
   "cell_type": "markdown",
   "metadata": {},
   "source": [
    "Informasjonen vi skulle webskrape var spredt på flere sider, mens vi bare har webskrapt én side. Skal vi samle alle stillingsutlysninger, må vi også loope gjennom alle sidene med stillingsutlysninger.\n",
    "\n",
    "Webskraping er i tillegg avhengig av kode-elementer på siden, og om utviklerne en dag endrer designen må vi plutselig endre koden vår - i noen tilfeller kan data allerede ha gått tapt fordi designen endret seg og vi ikke fikk webskrapt når vi skulle.\n",
    "\n",
    "For å redusere risikoen, kan det være en fordel å begynne med å lagre hele nettsiden, og deretter plukke ut elementene vi skal ha. Men vi er da fortsatt sårbare for endringer i URLen - hvis nettaddressen plutselig endrer seg vil det ikke hjelpe å ha lagret innholdet på den gamle siden - som kanskje bare er en 404-feilmelding.\n",
    "\n",
    "Rent kodemessig er NAV et takknemlig eksempel. På andre nettsider kan det være langt vanskeligere å identifisere elementene vi er interessert i. Dette kan fort bli veldig tidkrevende, og øke risikoen ved redesign."
   ]
  },
  {
   "cell_type": "markdown",
   "metadata": {},
   "source": [
    "Et ytterligere poeng, er at mange nettsider har mer informasjon enn det de publiserer - NAV har bl.a. organisasjonsnummer på arbeidsgiverne og yrkeskode for stillingen, informasjon som vil være svært relevant for oss. \n",
    "\n",
    "**Konklusjon: Webskraping er ofte enkelt, men ikke optimalt. Har du mulighet, få informasjonen rett fra kilden. Webskraping er plan B.**"
   ]
  }
 ],
 "metadata": {
  "kernelspec": {
   "display_name": "Python 3",
   "language": "python",
   "name": "python3"
  },
  "language_info": {
   "codemirror_mode": {
    "name": "ipython",
    "version": 3
   },
   "file_extension": ".py",
   "mimetype": "text/x-python",
   "name": "python",
   "nbconvert_exporter": "python",
   "pygments_lexer": "ipython3",
   "version": "3.5.2"
  }
 },
 "nbformat": 4,
 "nbformat_minor": 2
}
